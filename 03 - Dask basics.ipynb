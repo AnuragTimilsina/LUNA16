{
 "cells": [
  {
   "cell_type": "markdown",
   "metadata": {},
   "source": [
    "In this notebook, we explore the ability of Dask to handle the large amount of data we are presented with.\n",
    "\n",
    "We will first load the necessary libraries and set the environment variables. In case the ```all_mhd_files``` list is empty, please ensure your data has been downloaded."
   ]
  },
  {
   "cell_type": "code",
   "execution_count": 1,
   "metadata": {},
   "outputs": [],
   "source": [
    "from LUNA16.utils.analyze_folders import analyze_folder\n",
    "from LUNA16.utils.analyze_data_distribution import read_mhd\n",
    "import matplotlib.pyplot as plt\n",
    "import random\n",
    "import numpy as np\n",
    "import dask\n",
    "import dask.array as da\n",
    "from dask.distributed import Client\n",
    "import time\n",
    "%matplotlib inline\n",
    "plt.rcParams[\"figure.figsize\"] = [20, 8]\n",
    "random.seed(123)"
   ]
  },
  {
   "cell_type": "code",
   "execution_count": 2,
   "metadata": {},
   "outputs": [],
   "source": [
    "ROOT_FOLDER = \"/home/azureuser/cloudfiles/data/LUNA16/extracted\"\n",
    "all_files = analyze_folder(ROOT_FOLDER)\n",
    "assert len(all_files) == 3567\n",
    "all_mhd_files = [file for file in all_files if file.extension == \"mhd\"]\n",
    "assert len(all_mhd_files) == 1776"
   ]
  },
  {
   "cell_type": "markdown",
   "metadata": {},
   "source": [
    "1st Experimentation: single file - First making some numpy standard calculations to have a baseline of some sort."
   ]
  },
  {
   "cell_type": "code",
   "execution_count": 3,
   "metadata": {},
   "outputs": [
    {
     "name": "stdout",
     "output_type": "stream",
     "text": [
      "-25956655000.0\n",
      "CPU times: user 18.5 ms, sys: 37 ms, total: 55.6 ms\n",
      "Wall time: 74.2 ms\n"
     ]
    }
   ],
   "source": [
    "%%time\n",
    "sample = all_mhd_files[0]\n",
    "sample_array = read_mhd(sample)\n",
    "print(np.sum(sample_array))"
   ]
  },
  {
   "cell_type": "code",
   "execution_count": 4,
   "metadata": {},
   "outputs": [
    {
     "name": "stderr",
     "output_type": "stream",
     "text": [
      "/anaconda/envs/azureml_py38_PT_TF/lib/python3.8/site-packages/distributed/node.py:181: UserWarning: Port 8787 is already in use.\n",
      "Perhaps you already have a cluster running?\n",
      "Hosting the HTTP server on port 36221 instead\n",
      "  warnings.warn(\n"
     ]
    }
   ],
   "source": [
    "client = Client(n_workers=4)"
   ]
  },
  {
   "cell_type": "code",
   "execution_count": 5,
   "metadata": {},
   "outputs": [
    {
     "name": "stdout",
     "output_type": "stream",
     "text": [
      "CPU times: user 1.45 ms, sys: 0 ns, total: 1.45 ms\n",
      "Wall time: 925 µs\n"
     ]
    },
    {
     "data": {
      "text/plain": [
       "Delayed('read_mhd-5f148ce4-7c96-4f2f-b016-2e5d4857cbf2')"
      ]
     },
     "execution_count": 5,
     "metadata": {},
     "output_type": "execute_result"
    }
   ],
   "source": [
    "%%time\n",
    "lazy_sample = dask.delayed(read_mhd)(sample)\n",
    "lazy_sample"
   ]
  },
  {
   "cell_type": "code",
   "execution_count": 6,
   "metadata": {},
   "outputs": [],
   "source": [
    "# %%time\n",
    "# lazy_array = da.from_delayed(lazy_sample, shape=sample_array.shape, dtype=np.float32)\n",
    "# lazy_array"
   ]
  },
  {
   "cell_type": "code",
   "execution_count": 7,
   "metadata": {},
   "outputs": [],
   "source": [
    "# %%time\n",
    "# lazy_array.sum().compute()"
   ]
  },
  {
   "cell_type": "code",
   "execution_count": 8,
   "metadata": {},
   "outputs": [
    {
     "data": {
      "text/html": [
       "<table>\n",
       "    <tr>\n",
       "        <td>\n",
       "            <table>\n",
       "                <thead>\n",
       "                    <tr>\n",
       "                        <td> </td>\n",
       "                        <th> Array </th>\n",
       "                        <th> Chunk </th>\n",
       "                    </tr>\n",
       "                </thead>\n",
       "                <tbody>\n",
       "                    \n",
       "                    <tr>\n",
       "                        <th> Bytes </th>\n",
       "                        <td> unknown </td>\n",
       "                        <td> unknown </td>\n",
       "                    </tr>\n",
       "                    \n",
       "                    <tr>\n",
       "                        <th> Shape </th>\n",
       "                        <td> (nan, 512, 512) </td>\n",
       "                        <td> (nan, 512, 512) </td>\n",
       "                    </tr>\n",
       "                    <tr>\n",
       "                        <th> Count </th>\n",
       "                        <td> 2 Tasks </td>\n",
       "                        <td> 1 Chunks </td>\n",
       "                    </tr>\n",
       "                    <tr>\n",
       "                    <th> Type </th>\n",
       "                    <td> float32 </td>\n",
       "                    <td> numpy.ndarray </td>\n",
       "                    </tr>\n",
       "                </tbody>\n",
       "            </table>\n",
       "        </td>\n",
       "        <td>\n",
       "        \n",
       "        </td>\n",
       "    </tr>\n",
       "</table>"
      ],
      "text/plain": [
       "dask.array<from-value, shape=(nan, 512, 512), dtype=float32, chunksize=(nan, 512, 512), chunktype=numpy.ndarray>"
      ]
     },
     "execution_count": 8,
     "metadata": {},
     "output_type": "execute_result"
    }
   ],
   "source": [
    "lazy_array = da.from_delayed(lazy_sample, shape=(np.nan, 512, 512), dtype=np.float32)\n",
    "lazy_array"
   ]
  },
  {
   "cell_type": "code",
   "execution_count": 9,
   "metadata": {},
   "outputs": [
    {
     "data": {
      "text/plain": [
       "-25956655000.0"
      ]
     },
     "execution_count": 9,
     "metadata": {},
     "output_type": "execute_result"
    }
   ],
   "source": [
    "lazy_array.sum().compute()"
   ]
  },
  {
   "cell_type": "code",
   "execution_count": null,
   "metadata": {},
   "outputs": [],
   "source": []
  }
 ],
 "metadata": {
  "interpreter": {
   "hash": "9169f1d4e16acc976bbb73e323b0dbdf23f1c55e833fb2befffc4fb50ac2de2f"
  },
  "kernelspec": {
   "display_name": "Python 3.8.1 ('azureml_py38_PT_TF')",
   "language": "python",
   "name": "python3"
  },
  "language_info": {
   "codemirror_mode": {
    "name": "ipython",
    "version": 3
   },
   "file_extension": ".py",
   "mimetype": "text/x-python",
   "name": "python",
   "nbconvert_exporter": "python",
   "pygments_lexer": "ipython3",
   "version": "3.8.1"
  },
  "orig_nbformat": 4
 },
 "nbformat": 4,
 "nbformat_minor": 2
}
