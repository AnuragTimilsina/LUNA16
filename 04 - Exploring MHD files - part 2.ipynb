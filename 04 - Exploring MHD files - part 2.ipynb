{
 "cells": [
  {
   "cell_type": "markdown",
   "metadata": {},
   "source": [
    "# 04 - Exploring MHD files, part 2\n",
    "\n",
    "Welcome to Part 2 of the MHD file Exploration. So far, we have analyzed a single random UID and explored it a little bit. We still have not searched for nodules, but are only getting ourselves familiar with some of the data structures that we will deal with.\n",
    "\n",
    "With the knowledge acquired from the previous step, we will give Dask a spin. In this notebook, we will try to:\n",
    "- Calculate the distribution of all values in all CT scans, generating (hopefully) a histogram\n",
    "- Try to find if there are any NaN values\n",
    "- Try to extract summary statistics, that represents the total of our data\n",
    "\n",
    "> Attention!! Running this notebook could take minutes/hours/days depending on your hardware. Proceed with caution.\n",
    "\n",
    "To do so, we will first start with imports and setting the appropriate variables:"
   ]
  },
  {
   "cell_type": "code",
   "execution_count": 1,
   "metadata": {},
   "outputs": [],
   "source": [
    "from LUNA16.utils.analyze_folders import analyze_folder\n",
    "from LUNA16.utils.analyze_data_distribution import read_mhd\n",
    "import matplotlib.pyplot as plt\n",
    "import random\n",
    "import dask\n",
    "import dask.array as da\n",
    "import numpy as np\n",
    "from dask.distributed import Client\n",
    "%matplotlib inline\n",
    "plt.rcParams[\"figure.figsize\"] = [20, 8]\n",
    "random.seed(123)"
   ]
  },
  {
   "cell_type": "code",
   "execution_count": 2,
   "metadata": {},
   "outputs": [],
   "source": [
    "ROOT_FOLDER = \"/home/azureuser/cloudfiles/data/LUNA16/extracted\"\n",
    "all_files = analyze_folder(ROOT_FOLDER)\n",
    "assert len(all_files) == 3567\n",
    "all_mhd_files = [file for file in all_files if file.extension == \"mhd\"]\n",
    "assert len(all_mhd_files) == 1776"
   ]
  },
  {
   "cell_type": "code",
   "execution_count": 3,
   "metadata": {},
   "outputs": [
    {
     "name": "stdout",
     "output_type": "stream",
     "text": [
      "1776 <class 'list'>\n",
      "CPU times: user 65.2 ms, sys: 20.5 ms, total: 85.7 ms\n",
      "Wall time: 85.1 ms\n"
     ]
    }
   ],
   "source": [
    "%%time\n",
    "lazy_array = [dask.delayed(read_mhd)(x) for x in all_mhd_files]\n",
    "print(len(lazy_array), type(lazy_array))"
   ]
  },
  {
   "cell_type": "markdown",
   "metadata": {},
   "source": [
    "One thing that I would like to call out is that `da.from_delayed` expects a `shape` attribute. The problem with this function is that the size of each CT scan MHD file is different - as we have noticed in the earlier notebook, the first dimension of each CT scan varied. To overcome this problem, I have tried setting the first dimension of the shape to `np.nan` which worked perfectly when concatenating the arrays and computing them for further operations."
   ]
  },
  {
   "cell_type": "code",
   "execution_count": 4,
   "metadata": {},
   "outputs": [
    {
     "name": "stdout",
     "output_type": "stream",
     "text": [
      "1776 <class 'list'>\n",
      "CPU times: user 146 ms, sys: 867 µs, total: 147 ms\n",
      "Wall time: 146 ms\n"
     ]
    }
   ],
   "source": [
    "%%time\n",
    "lazy_array = [da.from_delayed(x, shape=(np.nan, 512, 512), dtype=np.float32) for x in lazy_array]\n",
    "print(len(lazy_array), type(lazy_array))"
   ]
  },
  {
   "cell_type": "code",
   "execution_count": 5,
   "metadata": {},
   "outputs": [
    {
     "data": {
      "text/plain": [
       "[dask.array<from-value, shape=(nan, 512, 512), dtype=float32, chunksize=(nan, 512, 512), chunktype=numpy.ndarray>,\n",
       " dask.array<from-value, shape=(nan, 512, 512), dtype=float32, chunksize=(nan, 512, 512), chunktype=numpy.ndarray>,\n",
       " dask.array<from-value, shape=(nan, 512, 512), dtype=float32, chunksize=(nan, 512, 512), chunktype=numpy.ndarray>,\n",
       " dask.array<from-value, shape=(nan, 512, 512), dtype=float32, chunksize=(nan, 512, 512), chunktype=numpy.ndarray>,\n",
       " dask.array<from-value, shape=(nan, 512, 512), dtype=float32, chunksize=(nan, 512, 512), chunktype=numpy.ndarray>]"
      ]
     },
     "execution_count": 5,
     "metadata": {},
     "output_type": "execute_result"
    }
   ],
   "source": [
    "lazy_array[0:5]"
   ]
  },
  {
   "cell_type": "code",
   "execution_count": 6,
   "metadata": {},
   "outputs": [
    {
     "name": "stdout",
     "output_type": "stream",
     "text": [
      "CPU times: user 164 ms, sys: 247 µs, total: 165 ms\n",
      "Wall time: 173 ms\n"
     ]
    }
   ],
   "source": [
    "%%time\n",
    "big_array = da.concatenate(lazy_array, axis=0)"
   ]
  },
  {
   "cell_type": "code",
   "execution_count": 7,
   "metadata": {},
   "outputs": [
    {
     "data": {
      "text/html": [
       "<table>\n",
       "    <tr>\n",
       "        <td>\n",
       "            <table>\n",
       "                <thead>\n",
       "                    <tr>\n",
       "                        <td> </td>\n",
       "                        <th> Array </th>\n",
       "                        <th> Chunk </th>\n",
       "                    </tr>\n",
       "                </thead>\n",
       "                <tbody>\n",
       "                    \n",
       "                    <tr>\n",
       "                        <th> Bytes </th>\n",
       "                        <td> unknown </td>\n",
       "                        <td> unknown </td>\n",
       "                    </tr>\n",
       "                    \n",
       "                    <tr>\n",
       "                        <th> Shape </th>\n",
       "                        <td> (nan, 512, 512) </td>\n",
       "                        <td> (nan, 512, 512) </td>\n",
       "                    </tr>\n",
       "                    <tr>\n",
       "                        <th> Count </th>\n",
       "                        <td> 5328 Tasks </td>\n",
       "                        <td> 1776 Chunks </td>\n",
       "                    </tr>\n",
       "                    <tr>\n",
       "                    <th> Type </th>\n",
       "                    <td> float32 </td>\n",
       "                    <td> numpy.ndarray </td>\n",
       "                    </tr>\n",
       "                </tbody>\n",
       "            </table>\n",
       "        </td>\n",
       "        <td>\n",
       "        \n",
       "        </td>\n",
       "    </tr>\n",
       "</table>"
      ],
      "text/plain": [
       "dask.array<concatenate, shape=(nan, 512, 512), dtype=float32, chunksize=(nan, 512, 512), chunktype=numpy.ndarray>"
      ]
     },
     "execution_count": 7,
     "metadata": {},
     "output_type": "execute_result"
    }
   ],
   "source": [
    "big_array"
   ]
  },
  {
   "cell_type": "markdown",
   "metadata": {},
   "source": [
    "Out of curiosity, let's try to print out the shape of the `big_array` object. This should be the total array of all CT scans, concatenated across the 0 axis. Let's have a look:"
   ]
  },
  {
   "cell_type": "code",
   "execution_count": 15,
   "metadata": {},
   "outputs": [
    {
     "name": "stdout",
     "output_type": "stream",
     "text": [
      "(454450, 512, 512)\n",
      "CPU times: user 5min 9s, sys: 3min 33s, total: 8min 43s\n",
      "Wall time: 3min 33s\n"
     ]
    }
   ],
   "source": [
    "%%time\n",
    "array_size = big_array.compute_chunk_sizes().shape\n",
    "print(array_size)"
   ]
  },
  {
   "cell_type": "markdown",
   "metadata": {},
   "source": [
    "Let's try to find out if our data has any `NaN` values in it."
   ]
  },
  {
   "cell_type": "code",
   "execution_count": 18,
   "metadata": {},
   "outputs": [
    {
     "name": "stdout",
     "output_type": "stream",
     "text": [
      "NaNs found :0\n",
      "CPU times: user 7min 3s, sys: 3min 41s, total: 10min 44s\n",
      "Wall time: 4min 37s\n"
     ]
    }
   ],
   "source": [
    "%%time\n",
    "nans = da.isnan(big_array).sum().compute()\n",
    "print(f\"NaNs found: {nans}\")"
   ]
  },
  {
   "cell_type": "markdown",
   "metadata": {},
   "source": [
    "We have no `NaNs` in our dataset, and this is great!! We can now put our attention to building a histogram of all the values in the file(s). To do so, we will ultimately be relying on `da.array.histogram()`, but that function will require us to provide a minimum and maximum value. Therefore, we will search for these values now."
   ]
  },
  {
   "cell_type": "code",
   "execution_count": 16,
   "metadata": {},
   "outputs": [
    {
     "name": "stdout",
     "output_type": "stream",
     "text": [
      "the Biggest value in the dataset is: 32767.0\n",
      "CPU times: user 5min 41s, sys: 3min 33s, total: 9min 15s\n",
      "Wall time: 4min 40s\n"
     ]
    }
   ],
   "source": [
    "%%time\n",
    "max_value = big_array.max().compute()\n",
    "print(f\"the Biggest value in the dataset is: {max_value}\")"
   ]
  },
  {
   "cell_type": "code",
   "execution_count": 19,
   "metadata": {},
   "outputs": [
    {
     "name": "stdout",
     "output_type": "stream",
     "text": [
      "the Smallest value in the dataset is: -32768.0\n",
      "CPU times: user 5min 43s, sys: 3min 25s, total: 9min 8s\n",
      "Wall time: 4min 42s\n"
     ]
    }
   ],
   "source": [
    "%%time\n",
    "min_value = big_array.min().compute()\n",
    "print(f\"the Smallest value in the dataset is: {min_value}\")"
   ]
  },
  {
   "cell_type": "code",
   "execution_count": 23,
   "metadata": {},
   "outputs": [
    {
     "name": "stdout",
     "output_type": "stream",
     "text": [
      "CPU times: user 1h 6min 32s, sys: 3min 7s, total: 1h 9min 39s\n",
      "Wall time: 9min 54s\n"
     ]
    }
   ],
   "source": [
    "%%time\n",
    "hist_computation, bins = da.histogram(big_array, bins=1000, range=[min_value, max_value])\n",
    "hist_computation = hist_computation.compute()"
   ]
  },
  {
   "cell_type": "code",
   "execution_count": 30,
   "metadata": {},
   "outputs": [
    {
     "data": {
      "image/png": "[encoded data removed]",
      "text/plain": [
       "<Figure size 1440x576 with 1 Axes>"
      ]
     },
     "metadata": {
      "needs_background": "light"
     },
     "output_type": "display_data"
    }
   ],
   "source": [
    "plt.plot(bins[:-1], hist_computation)\n",
    "plt.title(\"Distribution of the values across all CT scans.\")\n",
    "plt.show()"
   ]
  },
  {
   "cell_type": "markdown",
   "metadata": {},
   "source": [
    "We can see that picking these extreme values of min/max are not very usefull for our purpose. Instead, we will use the previously gathered information (-3000, 3000) from the previous notebook. There is almost nothing happening at those edge cases."
   ]
  },
  {
   "cell_type": "code",
   "execution_count": 31,
   "metadata": {},
   "outputs": [
    {
     "name": "stdout",
     "output_type": "stream",
     "text": [
      "CPU times: user 1h 6min 39s, sys: 3min 8s, total: 1h 9min 48s\n",
      "Wall time: 9min 58s\n"
     ]
    }
   ],
   "source": [
    "%%time\n",
    "hist_computation2, bins2 = da.histogram(big_array, bins=1000, range=[-3000, 3000])\n",
    "hist_computation2 = hist_computation2.compute()"
   ]
  },
  {
   "cell_type": "code",
   "execution_count": 66,
   "metadata": {},
   "outputs": [
    {
     "data": {
      "image/png": "[encoded data removed]",
      "text/plain": [
       "<Figure size 1440x576 with 1 Axes>"
      ]
     },
     "metadata": {
      "needs_background": "light"
     },
     "output_type": "display_data"
    }
   ],
   "source": [
    "plt.interactive(True)\n",
    "plt.plot (bins2[:-1], hist_computation2)\n",
    "\n",
    "plt.ylim([0, 1440000000])\n",
    "plt.title(\"Distribution of the values across all CT scans from -3000 to 3000. Y-axis is cropped.\")\n",
    "plt.show()"
   ]
  },
  {
   "cell_type": "markdown",
   "metadata": {},
   "source": [
    "## Conclusion\n",
    "\n",
    "This concludes this notebook. We havent discovered anything of extreme high importance, except some key take-aways:\n",
    "\n",
    "- We've learnt how to use `dask` to manipulate massive data on a single machine, and that's amazing :)\n",
    "- There are no `NaNs` in our data.\n",
    "- Most of the data seems to be living near the 0 value, and nothing much happens at the extremes values.\n",
    "- It seems that we should clip the data to [-1000, 1000], as it seems there is nothing of importance outside these values. Maybe before closing this notebook, we should count how many values do we have that fall out of this range?"
   ]
  },
  {
   "cell_type": "code",
   "execution_count": 12,
   "metadata": {},
   "outputs": [
    {
     "name": "stdout",
     "output_type": "stream",
     "text": [
      "The number of Voxels that have values less than -1000 are: 14129077501\n",
      "CPU times: user 7min 4s, sys: 3min 21s, total: 10min 26s\n",
      "Wall time: 4min 25s\n"
     ]
    }
   ],
   "source": [
    "%%time\n",
    "less_than_minus_1000 = da.sum(big_array <= -1000).compute()\n",
    "print(f\"The number of Voxels that have values less than -1000 are: {less_than_minus_1000}\")"
   ]
  },
  {
   "cell_type": "code",
   "execution_count": 13,
   "metadata": {},
   "outputs": [
    {
     "name": "stdout",
     "output_type": "stream",
     "text": [
      "The number of Voxels that have values less than -1000 are: 83705365\n",
      "CPU times: user 7min 2s, sys: 3min 26s, total: 10min 29s\n",
      "Wall time: 4min 38s\n"
     ]
    }
   ],
   "source": [
    "%%time\n",
    "more_than_1000 = da.sum(big_array >= 1000).compute()\n",
    "print(f\"The number of Voxels that have values less than -1000 are: {more_than_1000}\")"
   ]
  },
  {
   "cell_type": "code",
   "execution_count": 21,
   "metadata": {},
   "outputs": [],
   "source": [
    "array_size_flat = np.prod([x for x in array_size])"
   ]
  },
  {
   "cell_type": "code",
   "execution_count": 22,
   "metadata": {},
   "outputs": [
    {
     "name": "stdout",
     "output_type": "stream",
     "text": [
      "0.11860084345663639 - 0.0007026309318597042\n"
     ]
    }
   ],
   "source": [
    "print(f\"{less_than_minus_1000 / array_size_flat} - {more_than_1000 / array_size_flat}\")"
   ]
  },
  {
   "cell_type": "markdown",
   "metadata": {},
   "source": [
    "Interesting!!! it turns out that 11.86% of the cells in the CT scans have values lower than -1000, but there is only 0.07% cells that contain the high values above 1000."
   ]
  }
 ],
 "metadata": {
  "interpreter": {
   "hash": "9169f1d4e16acc976bbb73e323b0dbdf23f1c55e833fb2befffc4fb50ac2de2f"
  },
  "kernelspec": {
   "display_name": "Python 3.8.1 ('azureml_py38_PT_TF')",
   "language": "python",
   "name": "python3"
  },
  "language_info": {
   "codemirror_mode": {
    "name": "ipython",
    "version": 3
   },
   "file_extension": ".py",
   "mimetype": "text/x-python",
   "name": "python",
   "nbconvert_exporter": "python",
   "pygments_lexer": "ipython3",
   "version": "3.8.1"
  },
  "orig_nbformat": 4
 },
 "nbformat": 4,
 "nbformat_minor": 2
}
