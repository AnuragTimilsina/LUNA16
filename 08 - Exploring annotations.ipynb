{
 "cells": [
  {
   "cell_type": "markdown",
   "metadata": {},
   "source": [
    "In the spirit of exploration I move my attention to the CSV files - there are two tracks for this challenge:\n",
    "* Nodule detection - annotations.csv\n",
    "* Reduction of False Positive Rates - candidates_v2.csv\n",
    "\n",
    "This notebook is about the nodule detection"
   ]
  },
  {
   "cell_type": "code",
   "execution_count": 25,
   "metadata": {},
   "outputs": [],
   "source": [
    "import pandas as pd\n",
    "import matplotlib.pyplot as plt\n",
    "import numpy as np\n",
    "from LUNA16.utils.analyze_folders import analyze_folder\n",
    "%matplotlib inline\n",
    "plt.rcParams[\"figure.figsize\"] = [20, 6]"
   ]
  },
  {
   "cell_type": "code",
   "execution_count": 26,
   "metadata": {},
   "outputs": [],
   "source": [
    "ROOT_FOLDER = \"/home/azureuser/cloudfiles/data/LUNA16/extracted\"\n",
    "all_files = analyze_folder(ROOT_FOLDER)\n",
    "assert len(all_files) == 3567\n",
    "all_mhd_files = [file for file in all_files if file.extension == \"mhd\"]\n",
    "assert len(all_mhd_files) == 1776"
   ]
  },
  {
   "cell_type": "code",
   "execution_count": 19,
   "metadata": {},
   "outputs": [
    {
     "name": "stdout",
     "output_type": "stream",
     "text": [
      "There are 1186 nodules in 601 files.\n"
     ]
    }
   ],
   "source": [
    "file = \"../../data/LUNA16/extracted/evaluationScript/annotations/annotations.csv\"\n",
    "annotations = pd.read_csv(file)\n",
    "cols_of_interest = annotations.columns[1:]\n",
    "for col in cols_of_interest:\n",
    "    annotations[col] = annotations[col].astype(\"float64\")\n",
    "print (f\"There are {annotations.shape[0]} nodules in {annotations['seriesuid'].nunique()} files.\")"
   ]
  },
  {
   "cell_type": "code",
   "execution_count": 20,
   "metadata": {},
   "outputs": [
    {
     "data": {
      "image/png": "[encoded data removed]",
      "text/plain": [
       "<Figure size 1440x432 with 4 Axes>"
      ]
     },
     "metadata": {
      "needs_background": "light"
     },
     "output_type": "display_data"
    }
   ],
   "source": [
    "fig, ax = plt.subplots(1, len(cols_of_interest), sharey=True)\n",
    "fig.suptitle(\"Nodule location histograms:\")\n",
    "for i, col in enumerate(cols_of_interest):\n",
    "    ax[i].hist(annotations[col], bins=70)\n",
    "    ax[i].set_title(col)\n",
    "plt.show()"
   ]
  },
  {
   "cell_type": "markdown",
   "metadata": {},
   "source": [
    "Let's try to locate the first nodule!"
   ]
  },
  {
   "cell_type": "code",
   "execution_count": 23,
   "metadata": {},
   "outputs": [
    {
     "data": {
      "text/plain": [
       "seriesuid      1.3.6.1.4.1.14519.5.2.1.6279.6001.100225287222...\n",
       "coordX                                               -128.699421\n",
       "coordY                                               -175.319272\n",
       "coordZ                                               -298.387506\n",
       "diameter_mm                                             5.651471\n",
       "Name: 0, dtype: object"
      ]
     },
     "execution_count": 23,
     "metadata": {},
     "output_type": "execute_result"
    }
   ],
   "source": [
    "nodule_meta = annotations.loc[0]\n",
    "nodule_meta"
   ]
  },
  {
   "cell_type": "code",
   "execution_count": 24,
   "metadata": {},
   "outputs": [
    {
     "data": {
      "text/plain": [
       "'1.3.6.1.4.1.14519.5.2.1.6279.6001.100225287222365663678666836860'"
      ]
     },
     "execution_count": 24,
     "metadata": {},
     "output_type": "execute_result"
    }
   ],
   "source": [
    "nodule_meta.seriesuid"
   ]
  },
  {
   "cell_type": "code",
   "execution_count": 30,
   "metadata": {},
   "outputs": [
    {
     "name": "stdout",
     "output_type": "stream",
     "text": [
      "2\n"
     ]
    },
    {
     "data": {
      "text/plain": [
       "[File(filename='1.3.6.1.4.1.14519.5.2.1.6279.6001.100225287222365663678666836860', folder='/home/azureuser/cloudfiles/data/LUNA16/extracted/subset8/1.3.6.1.4.1.14519.5.2.1.6279.6001.100225287222365663678666836860.mhd', extension='mhd', size=432, path='/home/azureuser/cloudfiles/data/LUNA16/extracted/subset8'),\n",
       " File(filename='1.3.6.1.4.1.14519.5.2.1.6279.6001.100225287222365663678666836860', folder='/home/azureuser/cloudfiles/data/LUNA16/extracted/seg-lungs-LUNA16/1.3.6.1.4.1.14519.5.2.1.6279.6001.100225287222365663678666836860.mhd', extension='mhd', size=460, path='/home/azureuser/cloudfiles/data/LUNA16/extracted/seg-lungs-LUNA16')]"
      ]
     },
     "execution_count": 30,
     "metadata": {},
     "output_type": "execute_result"
    }
   ],
   "source": [
    "nodule_file = [file for file in all_mhd_files if file.filename == nodule_meta.seriesuid]\n",
    "print(len(nodule_file))"
   ]
  },
  {
   "cell_type": "code",
   "execution_count": 31,
   "metadata": {},
   "outputs": [
    {
     "data": {
      "text/plain": [
       "File(filename='1.3.6.1.4.1.14519.5.2.1.6279.6001.100225287222365663678666836860', folder='/home/azureuser/cloudfiles/data/LUNA16/extracted/subset8/1.3.6.1.4.1.14519.5.2.1.6279.6001.100225287222365663678666836860.mhd', extension='mhd', size=432, path='/home/azureuser/cloudfiles/data/LUNA16/extracted/subset8')"
      ]
     },
     "execution_count": 31,
     "metadata": {},
     "output_type": "execute_result"
    }
   ],
   "source": [
    "nodule_file = nodule_file[0]\n",
    "nodule_file"
   ]
  },
  {
   "cell_type": "code",
   "execution_count": 32,
   "metadata": {},
   "outputs": [],
   "source": [
    "import SimpleITK as sitk\n",
    "from LUNA16.utils.analyze_data_distribution import read_mhd_and_metadata\n",
    "n_array, n_spacing, n_origin = read_mhd_and_metadata(nodule_file)"
   ]
  },
  {
   "cell_type": "code",
   "execution_count": 33,
   "metadata": {},
   "outputs": [
    {
     "data": {
      "text/plain": [
       "seriesuid      1.3.6.1.4.1.14519.5.2.1.6279.6001.100225287222...\n",
       "coordX                                               -128.699421\n",
       "coordY                                               -175.319272\n",
       "coordZ                                               -298.387506\n",
       "diameter_mm                                             5.651471\n",
       "Name: 0, dtype: object"
      ]
     },
     "execution_count": 33,
     "metadata": {},
     "output_type": "execute_result"
    }
   ],
   "source": [
    "nodule_meta"
   ]
  },
  {
   "cell_type": "code",
   "execution_count": 34,
   "metadata": {},
   "outputs": [
    {
     "data": {
      "text/plain": [
       "(-157.67773, -311.67773, -438.4)"
      ]
     },
     "execution_count": 34,
     "metadata": {},
     "output_type": "execute_result"
    }
   ],
   "source": [
    "n_origin"
   ]
  },
  {
   "cell_type": "code",
   "execution_count": 35,
   "metadata": {},
   "outputs": [
    {
     "data": {
      "text/plain": [
       "(0.64453125, 0.64453125, 1.7999999523162842)"
      ]
     },
     "execution_count": 35,
     "metadata": {},
     "output_type": "execute_result"
    }
   ],
   "source": [
    "n_spacing"
   ]
  },
  {
   "cell_type": "code",
   "execution_count": 36,
   "metadata": {},
   "outputs": [
    {
     "data": {
      "text/plain": [
       "(194, 512, 512)"
      ]
     },
     "execution_count": 36,
     "metadata": {},
     "output_type": "execute_result"
    }
   ],
   "source": [
    "n_array.shape"
   ]
  },
  {
   "cell_type": "code",
   "execution_count": null,
   "metadata": {},
   "outputs": [],
   "source": []
  }
 ],
 "metadata": {
  "interpreter": {
   "hash": "9169f1d4e16acc976bbb73e323b0dbdf23f1c55e833fb2befffc4fb50ac2de2f"
  },
  "kernelspec": {
   "display_name": "Python 3.8.1 ('azureml_py38_PT_TF')",
   "language": "python",
   "name": "python3"
  },
  "language_info": {
   "codemirror_mode": {
    "name": "ipython",
    "version": 3
   },
   "file_extension": ".py",
   "mimetype": "text/x-python",
   "name": "python",
   "nbconvert_exporter": "python",
   "pygments_lexer": "ipython3",
   "version": "3.8.1"
  },
  "orig_nbformat": 4
 },
 "nbformat": 4,
 "nbformat_minor": 2
}
