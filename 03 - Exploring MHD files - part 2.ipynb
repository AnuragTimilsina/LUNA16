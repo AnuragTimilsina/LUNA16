{
 "cells": [
  {
   "cell_type": "markdown",
   "metadata": {},
   "source": [
    "In this notebook, we explore the ability of Dask to handle the large amount of data we are presented with."
   ]
  },
  {
   "cell_type": "code",
   "execution_count": null,
   "metadata": {},
   "outputs": [],
   "source": [
    "#%pip install pydicom scikit-image plotly SimpleITK ipywidgets\n",
    "import pydicom\n",
    "from LUNA16.utils.analyze_folders import analyze_folder\n",
    "import os\n",
    "import matplotlib.pyplot as plt\n",
    "import random\n",
    "import numpy as np\n",
    "import plotly\n",
    "import skimage\n",
    "import pprint\n",
    "from mpl_toolkits.mplot3d.art3d import Poly3DCollection\n",
    "from ipywidgets import interact, FloatSlider\n",
    "import SimpleITK as sitk\n",
    "%matplotlib inline\n",
    "plt.rcParams[\"figure.figsize\"] = [20, 8]\n",
    "random.seed(123)"
   ]
  },
  {
   "cell_type": "code",
   "execution_count": null,
   "metadata": {},
   "outputs": [],
   "source": [
    "ROOT_FOLDER = \"/home/azureuser/cloudfiles/data/LUNA16/extracted\"\n",
    "all_files = analyze_folder(ROOT_FOLDER)"
   ]
  },
  {
   "cell_type": "code",
   "execution_count": null,
   "metadata": {},
   "outputs": [],
   "source": [
    "from LUNA16.utils.analyze_data_distribution import analyze_data_distribution, analyze_shapes, analyze_distribution_of_all_files\n",
    "from tqdm.notebook import tqdm\n",
    "from collections import Counter\n",
    "\n",
    "all_mhd_files = [file for file in all_files if file.extension == \"mhd\"]\n",
    "all_results = []"
   ]
  },
  {
   "cell_type": "code",
   "execution_count": null,
   "metadata": {},
   "outputs": [],
   "source": [
    "import multiprocessing\n",
    "all_mhd_files_mp = [(file, ) for file in all_files if file.extension == \"mhd\"]\n",
    "\n",
    "def mp_fn(fn, files,):\n",
    "    PROCESSES = multiprocessing.cpu_count() * 2\n",
    "    with multiprocessing.Pool(PROCESSES) as pool:\n",
    "        pool_results = pool.map(fn, files)\n",
    "\n",
    "    return pool_results"
   ]
  },
  {
   "cell_type": "code",
   "execution_count": null,
   "metadata": {},
   "outputs": [],
   "source": [
    "output = mp_fn(analyze_distribution_of_all_files, all_mhd_files_mp)"
   ]
  }
 ],
 "metadata": {
  "interpreter": {
   "hash": "9169f1d4e16acc976bbb73e323b0dbdf23f1c55e833fb2befffc4fb50ac2de2f"
  },
  "kernelspec": {
   "display_name": "Python 3.8.1 ('azureml_py38_PT_TF')",
   "language": "python",
   "name": "python3"
  },
  "language_info": {
   "name": "python",
   "version": "3.8.1"
  },
  "orig_nbformat": 4
 },
 "nbformat": 4,
 "nbformat_minor": 2
}
