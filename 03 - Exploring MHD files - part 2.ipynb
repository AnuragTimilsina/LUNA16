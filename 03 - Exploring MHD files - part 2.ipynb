{
 "cells": [
  {
   "cell_type": "markdown",
   "metadata": {},
   "source": [
    "In this notebook, we explore the ability of Dask to handle the large amount of data we are presented with."
   ]
  },
  {
   "cell_type": "code",
   "execution_count": 1,
   "metadata": {},
   "outputs": [],
   "source": [
    "#%pip install pydicom scikit-image plotly SimpleITK ipywidgets\n",
    "import pydicom\n",
    "from LUNA16.utils.analyze_folders import analyze_folder\n",
    "import os\n",
    "import matplotlib.pyplot as plt\n",
    "import random\n",
    "import numpy as np\n",
    "from tqdm.notebook import tqdm\n",
    "import plotly\n",
    "import skimage\n",
    "import pprint\n",
    "from mpl_toolkits.mplot3d.art3d import Poly3DCollection\n",
    "from ipywidgets import interact, FloatSlider\n",
    "import SimpleITK as sitk\n",
    "%matplotlib inline\n",
    "plt.rcParams[\"figure.figsize\"] = [20, 8]\n",
    "random.seed(123)"
   ]
  },
  {
   "cell_type": "code",
   "execution_count": 2,
   "metadata": {},
   "outputs": [],
   "source": [
    "ROOT_FOLDER = \"/home/azureuser/cloudfiles/data/LUNA16/extracted\"\n",
    "all_files = analyze_folder(ROOT_FOLDER)"
   ]
  },
  {
   "cell_type": "code",
   "execution_count": 3,
   "metadata": {},
   "outputs": [],
   "source": [
    "from LUNA16.utils.analyze_data_distribution import read_ct_as_dask\n",
    "from tqdm.notebook import tqdm\n",
    "from collections import Counter\n",
    "\n",
    "all_mhd_files = [file for file in all_files if file.extension == \"mhd\"]"
   ]
  },
  {
   "cell_type": "code",
   "execution_count": 4,
   "metadata": {},
   "outputs": [],
   "source": [
    "import dask.array as da\n",
    "dask_array = da.array(da.zeros((454450, 512, 512 )))"
   ]
  },
  {
   "cell_type": "code",
   "execution_count": 11,
   "metadata": {},
   "outputs": [
    {
     "data": {
      "application/vnd.jupyter.widget-view+json": {
       "model_id": "93a1239f7a974093bfd65273632cbf7a",
       "version_major": 2,
       "version_minor": 0
      },
      "text/plain": [
       "  0%|          | 0/1776 [00:00<?, ?it/s]"
      ]
     },
     "metadata": {},
     "output_type": "display_data"
    }
   ],
   "source": [
    "start = 0\n",
    "for file in tqdm(all_mhd_files):\n",
    "    temp_array = read_ct_as_dask(file)\n",
    "    end = temp_array.shape[0]\n",
    "    end = end + start\n",
    "    dask_array[start:end,:,:] = temp_array\n",
    "    start = end \n"
   ]
  },
  {
   "cell_type": "code",
   "execution_count": null,
   "metadata": {},
   "outputs": [],
   "source": []
  }
 ],
 "metadata": {
  "interpreter": {
   "hash": "9169f1d4e16acc976bbb73e323b0dbdf23f1c55e833fb2befffc4fb50ac2de2f"
  },
  "kernelspec": {
   "display_name": "Python 3.8.1 ('azureml_py38_PT_TF')",
   "language": "python",
   "name": "python3"
  },
  "language_info": {
   "codemirror_mode": {
    "name": "ipython",
    "version": 3
   },
   "file_extension": ".py",
   "mimetype": "text/x-python",
   "name": "python",
   "nbconvert_exporter": "python",
   "pygments_lexer": "ipython3",
   "version": "3.8.1"
  },
  "orig_nbformat": 4
 },
 "nbformat": 4,
 "nbformat_minor": 2
}
