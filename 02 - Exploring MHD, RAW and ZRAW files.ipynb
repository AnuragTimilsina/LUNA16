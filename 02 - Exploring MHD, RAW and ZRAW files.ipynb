{
 "cells": [
  {
   "cell_type": "markdown",
   "metadata": {},
   "source": [
    "### Exploring MHD, RAW, and ZRAW files\n",
    "\n",
    "To better appreciate the data retrieve, my next step is to lookup these file formats and understand a little bit more how to query them. This is the time where I will review whether there are libraries that are the best at this work. I will post my results below. To appreciate these files, I will install few libraries that will be required later on.\n",
    "\n",
    "Some libraries required/recommended:\n",
    "- [simpleITK](https://simpleitk.org/)"
   ]
  },
  {
   "cell_type": "code",
   "execution_count": null,
   "metadata": {},
   "outputs": [],
   "source": [
    "#%pip install pydicom scikit-image plotly SimpleITK ipywidgets\n",
    "import pydicom\n",
    "from LUNA16.utils.analyze_folders import analyze_folder\n",
    "import os\n",
    "import matplotlib.pyplot as plt\n",
    "import random\n",
    "import numpy as np\n",
    "import plotly\n",
    "import skimage\n",
    "import pprint\n",
    "from mpl_toolkits.mplot3d.art3d import Poly3DCollection\n",
    "from ipywidgets import interact, FloatSlider\n",
    "import SimpleITK as sitk\n",
    "%matplotlib inline\n",
    "plt.rcParams[\"figure.figsize\"] = [20, 8]\n",
    "random.seed(123)"
   ]
  },
  {
   "cell_type": "markdown",
   "metadata": {},
   "source": [
    "Pick a random MetaData file, and check if it has any similar "
   ]
  },
  {
   "cell_type": "code",
   "execution_count": null,
   "metadata": {},
   "outputs": [],
   "source": [
    "ROOT_FOLDER = \"/home/azureuser/cloudfiles/data/LUNA16/extracted\"\n",
    "all_files = analyze_folder(ROOT_FOLDER)\n",
    "random_uid = random.choice([file.filename for file in all_files if file.extension ==\"mhd\"])\n",
    "print(f\"The Random UID chosen for this notebook is: {random_uid}\")\n",
    "notebook_files = [file for file in all_files if file.filename ==random_uid]\n",
    "print(f\"There were {len(notebook_files)} files found with this uid., they are:\\nSize \\t Ext. \\t Folder.\")\n",
    "for file in notebook_files:\n",
    "    print(round(file.size / (1024 **2), 4), \"\\t\", file.extension, \"\\t\", file.folder.split(\"/\")[-2])\n",
    "raw = [file for file in notebook_files if file.extension == \"raw\"][0]\n",
    "mhd = [file for file in notebook_files if file.extension == \"mhd\"]"
   ]
  },
  {
   "cell_type": "code",
   "execution_count": null,
   "metadata": {},
   "outputs": [],
   "source": [
    "mhd_image = sitk.ReadImage(mhd[0].folder)\n",
    "mhd_image = np.array(sitk.GetArrayFromImage(mhd_image), dtype=np.float32)\n",
    "mhd_image = np.transpose(mhd_image, [1, 2, 0])\n",
    "NUM_IMAGES = 8\n",
    "fig, ax = plt.subplots(1, NUM_IMAGES)\n",
    "for i in range(NUM_IMAGES):\n",
    "    spacing = round(mhd_image.shape[2] / NUM_IMAGES)\n",
    "    idx = i * spacing\n",
    "    image = mhd_image[:,:,idx]\n",
    "    ax[i].imshow(image)\n",
    "    ax[i].set_title(f\"{idx}\")\n",
    "    ax[i].get_xaxis().set_visible(False)\n",
    "    ax[i].get_yaxis().set_visible(False)\n",
    "plt.show()\n",
    "plt.close()"
   ]
  },
  {
   "cell_type": "markdown",
   "metadata": {},
   "source": [
    "Those cross-sections are very interesting!!! I admit that I still don't understand the syntax of ```SimpleITK``` but we are progressing forward. One area that I would like to know about is the distribution of values within the slides of the image. This is what we explore next:"
   ]
  },
  {
   "cell_type": "code",
   "execution_count": null,
   "metadata": {},
   "outputs": [],
   "source": [
    "# Uncomment to draw 1 Histogram. Takes ~20 seconds\n",
    "# hist_data = np.reshape(mhd_image, -1) #Flatten all channels\n",
    "# plt.hist(hist_data, bins=100)\n",
    "# plt.title(f\"Histogram of values in {mhd[0].filename}\")\n",
    "# plt.show()"
   ]
  },
  {
   "cell_type": "markdown",
   "metadata": {},
   "source": [
    "We realize that some values seem to be improperly computed - why are there so many values at -3000? This is worth investigating.\n",
    "To do so, I will start creating reusable objects in the ```LUNA16``` package.\n",
    "\n",
    "My first experimentation is to open all the mhd files, and try to understand the distribution of data. But first, we need to make sure that we using the multiprocessing package correctly to perform fast calculations. I will first try to run a process sequentially, and then use multiprocessing."
   ]
  },
  {
   "cell_type": "code",
   "execution_count": null,
   "metadata": {},
   "outputs": [],
   "source": [
    "from LUNA16.utils.analyze_data_distribution import analyze_data_distribution, analyze_shapes\n",
    "from tqdm.notebook import tqdm\n",
    "from collections import Counter\n",
    "\n",
    "all_mhd_files = [file for file in all_files if file.extension == \"mhd\"]\n",
    "all_results = []\n",
    "\n",
    "# Uncomment to perform sequential operation. It took 11 minutes on my machine, Your mileage may vary\n",
    "# for i in tqdm(range(len(all_mhd_files))):\n",
    "#     result = analyze_shapes([all_mhd_files[i]])\n",
    "#     all_results.append(result)\n",
    "# shapes = Counter(all_results)\n",
    "# print(shapes.most_common(10))"
   ]
  },
  {
   "cell_type": "code",
   "execution_count": null,
   "metadata": {},
   "outputs": [],
   "source": [
    "import multiprocessing\n",
    "all_mhd_files_mp = [(file, ) for file in all_files if file.extension == \"mhd\"]\n",
    "results = []\n",
    "\n",
    "def mp_fn(fn=analyze_shapes, files=all_mhd_files_mp):\n",
    "    PROCESSES = multiprocessing.cpu_count() \n",
    "    with multiprocessing.Pool(PROCESSES) as pool:\n",
    "        pool_results = pool.map(fn, files)\n",
    "        results.append(pool_results)\n",
    "\n",
    "    return results"
   ]
  },
  {
   "cell_type": "code",
   "execution_count": null,
   "metadata": {},
   "outputs": [],
   "source": [
    "list_of_channels = mp_fn(analyze_shapes)"
   ]
  },
  {
   "cell_type": "markdown",
   "metadata": {},
   "source": [
    "I now turn my attention to exploring the RAW file, as well as the pydicom library.\n",
    "First, considering the ```pydicom``` library is one that I am not very familiar with, I decide to browse the contents of this namespace. to do so, I use list comprehension to onlypretty print those contents of ```__dir__``` if they dont include an underscore. After analyzing the returned commands, I believe that ```.dcmread()``` seems to be what I need to open the file."
   ]
  },
  {
   "cell_type": "code",
   "execution_count": null,
   "metadata": {},
   "outputs": [],
   "source": []
  }
 ],
 "metadata": {
  "interpreter": {
   "hash": "9169f1d4e16acc976bbb73e323b0dbdf23f1c55e833fb2befffc4fb50ac2de2f"
  },
  "kernelspec": {
   "display_name": "Python 3.8.1 ('azureml_py38_PT_TF')",
   "language": "python",
   "name": "python3"
  },
  "language_info": {
   "codemirror_mode": {
    "name": "ipython",
    "version": 3
   },
   "file_extension": ".py",
   "mimetype": "text/x-python",
   "name": "python",
   "nbconvert_exporter": "python",
   "pygments_lexer": "ipython3",
   "version": "3.8.1"
  },
  "orig_nbformat": 4
 },
 "nbformat": 4,
 "nbformat_minor": 2
}
