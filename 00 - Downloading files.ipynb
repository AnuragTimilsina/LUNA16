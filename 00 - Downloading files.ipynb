{
 "cells": [
  {
   "cell_type": "markdown",
   "metadata": {},
   "source": [
    "# The LUNA-16 Tutorial\n",
    "\n",
    "This tutorial will walk you through the typical workflow that you will be using to build a model for the LUNA 16 challenge.\n",
    "This is the first of several tutorials. While I have tried to make the whole process as simple as I can, I have decided to maintain the iterative approach that is inherent to data science.\n",
    "Data science is, by nature, very iterative. \n",
    "\n",
    "This tutorial assumes you are someway familiar with few technology stacks, such as:\n",
    "- The basics of Python\n",
    "- Numpy\n",
    "- Pytorch\n",
    "\n",
    "As we progress together through "
   ]
  },
  {
   "cell_type": "markdown",
   "metadata": {},
   "source": [
    "### Introduction and download instructions"
   ]
  },
  {
   "cell_type": "markdown",
   "metadata": {},
   "source": []
  },
  {
   "cell_type": "markdown",
   "metadata": {},
   "source": [
    "## Our journey so far\n",
    "This concludes the first notebook of the series! to wrap up, Here is our status by now:\n",
    "\n",
    "- [x] Learnt how to use `requests` to download some files, and `unzip` them.\n",
    "- [x] Learnt how to perform this operation in parallel, to make the download as fast as possible.\n",
    "- [ ] How many files have we downloaded? How many folders? What are their extensions? All of this is covered in [01-Understanding files and folders](01%20-%20Understanding%20files%20and%20folders%20EDA.ipynb)\n",
    "\n",
    "See you in the next notebook!"
   ]
  },
  {
   "cell_type": "markdown",
   "metadata": {},
   "source": []
  }
 ],
 "metadata": {
  "interpreter": {
   "hash": "9169f1d4e16acc976bbb73e323b0dbdf23f1c55e833fb2befffc4fb50ac2de2f"
  },
  "kernelspec": {
   "display_name": "Python 3.8.1 ('azureml_py38_PT_TF')",
   "language": "python",
   "name": "python3"
  },
  "language_info": {
   "codemirror_mode": {
    "name": "ipython",
    "version": 3
   },
   "file_extension": ".py",
   "mimetype": "text/x-python",
   "name": "python",
   "nbconvert_exporter": "python",
   "pygments_lexer": "ipython3",
   "version": "3.8.1"
  },
  "orig_nbformat": 4
 },
 "nbformat": 4,
 "nbformat_minor": 2
}
